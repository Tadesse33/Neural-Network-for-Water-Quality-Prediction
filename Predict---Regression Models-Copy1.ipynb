{
 "cells": [
  {
   "cell_type": "markdown",
   "metadata": {},
   "source": [
    "# Select Machine Learning Algorithms\n",
    "\n",
    "Various machine learning algorithms exist that are useful to approximate linear and nonlinear functions. The best strategy to select a suitable algorithm is to identify a short list of techniques appropriate for a particular problem and evaluate their performance on how well they capture the underlying pattern.\n",
    "\n",
    "For this specific problem, a linear regression and feed forward neural netowrk based models will be developed and compared. \n",
    "\n",
    "+ Linear regression provides greater flexibility in modeling exercise for linear problems and it is simple to interpret patterns. \n",
    "+ Artifial neural network is a power deep learning techniques to approximate .\n",
    "\n",
    "Given the limited time allocated for this coding challenge, I will only fit a linear regression model to predict crew size. From earlier data exploration, the linear regression assumptions are met:\n",
    "\n",
    "+ Visual plot of data shows a linear relationship between features and a target variable\n",
    "+ Thie histogram and Q-Q plots showed all variables are nearly normally distributed\n",
    "+ VIF test shows no or little multicollinearity"
   ]
  },
  {
   "cell_type": "markdown",
   "metadata": {},
   "source": [
    "# Fit Linear Regression"
   ]
  },
  {
   "cell_type": "code",
   "execution_count": 39,
   "metadata": {
    "scrolled": true
   },
   "outputs": [
    {
     "data": {
      "text/plain": [
       "Index(['area_ha', 'lake_perim', 'elv', 'ph', 'turb', 'cl', 'cond', 'na', 'doc',\n",
       "       'k', 'mg', 'ca', 'so4', 'sio2', 'chla', 'secmean', 'd18o_h2o', 'dd_h2o',\n",
       "       'e_i', 'rt'],\n",
       "      dtype='object')"
      ]
     },
     "execution_count": 39,
     "metadata": {},
     "output_type": "execute_result"
    }
   ],
   "source": [
    "import pandas as pd\n",
    "import numpy as np\n",
    "import matplotlib.pyplot as plt\n",
    "import seaborn as sns\n",
    "from sklearn.feature_selection import RFE\n",
    "from sklearn.model_selection import train_test_split\n",
    "from sklearn.model_selection import cross_val_score\n",
    "from sklearn import linear_model\n",
    "from sklearn.pipeline import Pipeline\n",
    "from sklearn.preprocessing import StandardScaler\n",
    "from sklearn.metrics import mean_squared_error\n",
    "from sklearn.metrics import mean_absolute_error\n",
    "from sklearn.metrics import r2_score\n",
    "from sklearn.linear_model import LinearRegression\n",
    "%matplotlib inline\n",
    "import warnings\n",
    "warnings.filterwarnings('ignore')\n",
    "\n",
    "\n",
    "pd.options.display.max_columns = 150\n",
    "data = pd.read_csv('combined_2007&2012.csv')\n",
    "features_data = pd.read_csv('features.csv')\n",
    "targets_data = pd.read_csv('targets.csv')\n",
    "feature_names = features_data.columns\n",
    "target_names = targets_data.columns\n",
    "feature_names"
   ]
  },
  {
   "cell_type": "code",
   "execution_count": 40,
   "metadata": {},
   "outputs": [
    {
     "data": {
      "text/plain": [
       "Index(['tn', 'tp'], dtype='object')"
      ]
     },
     "execution_count": 40,
     "metadata": {},
     "output_type": "execute_result"
    }
   ],
   "source": [
    "target_names"
   ]
  },
  {
   "cell_type": "code",
   "execution_count": 53,
   "metadata": {},
   "outputs": [
    {
     "data": {
      "text/html": [
       "<div>\n",
       "<style scoped>\n",
       "    .dataframe tbody tr th:only-of-type {\n",
       "        vertical-align: middle;\n",
       "    }\n",
       "\n",
       "    .dataframe tbody tr th {\n",
       "        vertical-align: top;\n",
       "    }\n",
       "\n",
       "    .dataframe thead th {\n",
       "        text-align: right;\n",
       "    }\n",
       "</style>\n",
       "<table border=\"1\" class=\"dataframe\">\n",
       "  <thead>\n",
       "    <tr style=\"text-align: right;\">\n",
       "      <th></th>\n",
       "      <th>id</th>\n",
       "      <th>date</th>\n",
       "      <th>epa_reg</th>\n",
       "      <th>urban</th>\n",
       "      <th>lake_origin</th>\n",
       "      <th>site_id_x</th>\n",
       "    </tr>\n",
       "  </thead>\n",
       "  <tbody>\n",
       "    <tr>\n",
       "      <th>0</th>\n",
       "      <td>NLA06608-0001</td>\n",
       "      <td>2007-07-31</td>\n",
       "      <td>Region_8</td>\n",
       "      <td>NO</td>\n",
       "      <td>NATURAL</td>\n",
       "      <td>NaN</td>\n",
       "    </tr>\n",
       "  </tbody>\n",
       "</table>\n",
       "</div>"
      ],
      "text/plain": [
       "              id        date   epa_reg urban lake_origin site_id_x\n",
       "0  NLA06608-0001  2007-07-31  Region_8    NO     NATURAL       NaN"
      ]
     },
     "execution_count": 53,
     "metadata": {},
     "output_type": "execute_result"
    }
   ],
   "source": [
    "data.select_dtypes(include=('object')).head(1)"
   ]
  },
  {
   "cell_type": "code",
   "execution_count": 42,
   "metadata": {},
   "outputs": [],
   "source": [
    "cols = ['chla', 'secmean', 'turb', 'k', 'na', 'e_i', 'rt']\n",
    "for col in cols:\n",
    "    data[col] = pd.to_numeric(data[col], errors='coerce').dropna()"
   ]
  },
  {
   "cell_type": "code",
   "execution_count": 33,
   "metadata": {},
   "outputs": [],
   "source": [
    "data = data.dropna()"
   ]
  },
  {
   "cell_type": "code",
   "execution_count": 55,
   "metadata": {},
   "outputs": [],
   "source": [
    "data['turb'] = data['turb'].fillna(data['turb'].mean())\n",
    "data['na'] = data['na'].fillna(data['na'].mean())\n",
    "data['chla'] = data['chla'].fillna(data['chla'].mean())\n",
    "data['secmean'] = data['secmean'].fillna(data['secmean'].mean())\n",
    "data['e_i'] = data['e_i'].fillna(data['e_i'].mean())\n",
    "data['rt'] = data['rt'].fillna(data['rt'].mean())\n",
    "data['k'] = data['k'].fillna(data['rt'].mean())"
   ]
  },
  {
   "cell_type": "code",
   "execution_count": 54,
   "metadata": {},
   "outputs": [
    {
     "data": {
      "text/plain": [
       "Unnamed: 0        0\n",
       "id             1220\n",
       "date              0\n",
       "lat               0\n",
       "lon               0\n",
       "epa_reg           0\n",
       "urban             0\n",
       "lake_origin       0\n",
       "area_ha           0\n",
       "lake_perim        0\n",
       "elv               0\n",
       "ph                0\n",
       "tn                0\n",
       "tp                0\n",
       "turb              0\n",
       "cl                0\n",
       "cond              0\n",
       "na                0\n",
       "doc               0\n",
       "k                 2\n",
       "mg                0\n",
       "ca                0\n",
       "so4               0\n",
       "sio2              0\n",
       "chla              0\n",
       "secmean           0\n",
       "d18o_h2o          0\n",
       "dd_h2o            0\n",
       "e_i               0\n",
       "rt                0\n",
       "site_id_x      1241\n",
       "dtype: int64"
      ]
     },
     "execution_count": 54,
     "metadata": {},
     "output_type": "execute_result"
    }
   ],
   "source": [
    "data.isnull().sum()"
   ]
  },
  {
   "cell_type": "code",
   "execution_count": 24,
   "metadata": {},
   "outputs": [
    {
     "data": {
      "text/plain": [
       "Unnamed: 0        0\n",
       "id             1220\n",
       "date              0\n",
       "lat               0\n",
       "lon               0\n",
       "epa_reg           0\n",
       "urban             0\n",
       "lake_origin       0\n",
       "area_ha           0\n",
       "lake_perim        0\n",
       "elv               0\n",
       "ph                0\n",
       "tn                0\n",
       "tp                0\n",
       "turb             40\n",
       "cl                0\n",
       "cond              0\n",
       "na                1\n",
       "doc               0\n",
       "k                 2\n",
       "mg                0\n",
       "ca                0\n",
       "so4               0\n",
       "sio2              0\n",
       "chla              0\n",
       "secmean           0\n",
       "d18o_h2o          0\n",
       "dd_h2o            0\n",
       "e_i               4\n",
       "rt               57\n",
       "site_id_x      1241\n",
       "dtype: int64"
      ]
     },
     "execution_count": 24,
     "metadata": {},
     "output_type": "execute_result"
    }
   ],
   "source": [
    "from scipy import stats\n",
    "\n",
    "cols = ['chla', 'secmean']\n",
    "for col in cols:\n",
    "    data.loc[:, col] = data.loc[:, col].fillna(stats.mode)\n",
    "    \n",
    "data.isnull().sum()"
   ]
  },
  {
   "cell_type": "markdown",
   "metadata": {},
   "source": [
    "### Select Error Metrics\n",
    "\n",
    "Mean Squared Error (MSE), R-squared, Adjusted R-squared and mean of the R-squared values obtained by the k-Fold Cross Validation. "
   ]
  },
  {
   "cell_type": "code",
   "execution_count": 25,
   "metadata": {},
   "outputs": [],
   "source": [
    "error_metrics = pd.DataFrame({'Model': [],\n",
    "                           'Number of Features': [],\n",
    "                           'Root Mean Squared Error (testing)':[],\n",
    "                           'R-squared (testing)':[],\n",
    "                           'Adjusted R-squared (testing)':[],\n",
    "                           'R-squared (training)':[],\n",
    "                           'Adjusted R-squared (training)':[],\n",
    "                           '5-Fold Cross Validation':[]})"
   ]
  },
  {
   "cell_type": "code",
   "execution_count": 26,
   "metadata": {},
   "outputs": [
    {
     "data": {
      "text/html": [
       "<div>\n",
       "<style scoped>\n",
       "    .dataframe tbody tr th:only-of-type {\n",
       "        vertical-align: middle;\n",
       "    }\n",
       "\n",
       "    .dataframe tbody tr th {\n",
       "        vertical-align: top;\n",
       "    }\n",
       "\n",
       "    .dataframe thead th {\n",
       "        text-align: right;\n",
       "    }\n",
       "</style>\n",
       "<table border=\"1\" class=\"dataframe\">\n",
       "  <thead>\n",
       "    <tr style=\"text-align: right;\">\n",
       "      <th></th>\n",
       "      <th>Model</th>\n",
       "      <th>Number of Features</th>\n",
       "      <th>Root Mean Squared Error (testing)</th>\n",
       "      <th>R-squared (testing)</th>\n",
       "      <th>Adjusted R-squared (testing)</th>\n",
       "      <th>R-squared (training)</th>\n",
       "      <th>Adjusted R-squared (training)</th>\n",
       "      <th>5-Fold Cross Validation</th>\n",
       "    </tr>\n",
       "  </thead>\n",
       "  <tbody>\n",
       "  </tbody>\n",
       "</table>\n",
       "</div>"
      ],
      "text/plain": [
       "Empty DataFrame\n",
       "Columns: [Model, Number of Features, Root Mean Squared Error (testing), R-squared (testing), Adjusted R-squared (testing), R-squared (training), Adjusted R-squared (training), 5-Fold Cross Validation]\n",
       "Index: []"
      ]
     },
     "execution_count": 26,
     "metadata": {},
     "output_type": "execute_result"
    }
   ],
   "source": [
    "\n",
    "error_metrics.drop(error_metrics.index[0:104])"
   ]
  },
  {
   "cell_type": "markdown",
   "metadata": {},
   "source": [
    "### Rank of features on correlation score to target variables"
   ]
  },
  {
   "cell_type": "code",
   "execution_count": 27,
   "metadata": {},
   "outputs": [],
   "source": [
    "# Rank of feature based on cost-effectiveness and simplicity of testing procedures\n",
    "feature_rank = {1:'ph', 2:'turb', 3:'cond', 4:'secmean', 5: 'doc', 6:'k', 7:'mg', \n",
    "                8:'so4', 9:'cl', 10: 'chla', 11: 'sio2', 11:'d18o_h2o', 13: 'dd_h2o', 14: 'e_i', 15: 'rt'}"
   ]
  },
  {
   "cell_type": "code",
   "execution_count": 28,
   "metadata": {},
   "outputs": [
    {
     "data": {
      "text/plain": [
       "<seaborn.axisgrid.PairGrid at 0x19dd1abe2b0>"
      ]
     },
     "execution_count": 28,
     "metadata": {},
     "output_type": "execute_result"
    },
    {
     "data": {
      "image/png": "[encoded data removed]",
      "text/plain": [
       "<Figure size 1260x360 with 14 Axes>"
      ]
     },
     "metadata": {},
     "output_type": "display_data"
    }
   ],
   "source": [
    "# display top 7 features\n",
    "sns.set(style=\"ticks\", color_codes=True)\n",
    "#fig, ax = plt.subplots(figsize=(15,6))\n",
    "sns.set_context(\"paper\", font_scale=1.9)\n",
    "sns.pairplot( data=data, y_vars=['tn', 'tp'], x_vars=['ph', 'turb', 'cond', 'doc', 'k', 'mg', 'so4'],size = 2.5, plot_kws = {'alpha': 0.6, 's': 80, 'edgecolor': 'k'}, diag_kind='kde')"
   ]
  },
  {
   "cell_type": "markdown",
   "metadata": {},
   "source": [
    "## Simple Linear Regression\n",
    "\n",
    "In this step, tn and tp are predicted using a single feature that was ranked as the most suitable based on cost-effectiveness and simplicity of field/laboratory testing criteria."
   ]
  },
  {
   "cell_type": "code",
   "execution_count": 10,
   "metadata": {},
   "outputs": [],
   "source": [
    "# fit simple linear regression model\n",
    "\n",
    "def simple_linear_regression(features, target, feature_name, taret_name):\n",
    "    # split data into train and test\n",
    "    train_data, test_data = train_test_split(data, train_size = 0.75, random_state = 2)\n",
    "    \n",
    "    # fit linear regression\n",
    "    lr = LinearRegression()\n",
    "    x_train = np.array(train_data[feature], dtype = pd.Series).reshape(-1,1)\n",
    "    y_train = np.array(train_data[target], dtype = pd.Series)\n",
    "    lr.fit(x_train,y_train)\n",
    "    \n",
    "    # reshape test data\n",
    "    x_test = np.array(test_data[feature], dtype = pd.Series).reshape(-1,1)\n",
    "    y_test = np.array(test_data[target], dtype = pd.Series)\n",
    "\n",
    "    # Validate and compute errors\n",
    "    pred = lr.predict(x_test)\n",
    "    rmse_test = float(format(np.sqrt(mean_squared_error(y_test, pred)),'.2f'))\n",
    "    r2_train = float(format(lr.score(x_train, y_train),'.2f'))\n",
    "    r2_test = float(format(lr.score(x_test, y_test),'.2f'))\n",
    "    cv = float(format(cross_val_score(lr, data[[feature]], data[target],cv = 5).mean(),'.2f'))\n",
    "\n",
    "    # Add error metrics in the error_metrcs dataframe\n",
    "    row = error_metrics.shape[0]\n",
    "    error_metrics.loc[row] = ['Simple Linear Regression','1 feature',  rmse_test, r2_test, '-', r2_train, '-', cv]\n",
    "    plt.figure(figsize=(12,8))\n",
    "      \n",
    "    # print model attributes  \n",
    "    \n",
    "    print(lr.intercept_)\n",
    "    print(lr.coef_)"
   ]
  },
  {
   "cell_type": "code",
   "execution_count": 11,
   "metadata": {
    "scrolled": true
   },
   "outputs": [
    {
     "name": "stdout",
     "output_type": "stream",
     "text": [
      "[  -5.9762162  -729.56726334]\n",
      "[[  0.88910385]\n",
      " [105.17763106]]\n"
     ]
    },
    {
     "data": {
      "text/plain": [
       "<Figure size 864x576 with 0 Axes>"
      ]
     },
     "metadata": {},
     "output_type": "display_data"
    }
   ],
   "source": [
    "# predict total nitrogen (tn)\n",
    "feature = 'ph'\n",
    "target = ['tn', 'tp']\n",
    "feature_name = 'pH'\n",
    "target_name = 'Total Nitrogen'\n",
    "\n",
    "simple_linear_regression(feature, target, feature_name, target_name)"
   ]
  },
  {
   "cell_type": "code",
   "execution_count": 12,
   "metadata": {},
   "outputs": [
    {
     "data": {
      "text/html": [
       "<div>\n",
       "<style scoped>\n",
       "    .dataframe tbody tr th:only-of-type {\n",
       "        vertical-align: middle;\n",
       "    }\n",
       "\n",
       "    .dataframe tbody tr th {\n",
       "        vertical-align: top;\n",
       "    }\n",
       "\n",
       "    .dataframe thead th {\n",
       "        text-align: right;\n",
       "    }\n",
       "</style>\n",
       "<table border=\"1\" class=\"dataframe\">\n",
       "  <thead>\n",
       "    <tr style=\"text-align: right;\">\n",
       "      <th></th>\n",
       "      <th>Model</th>\n",
       "      <th>Number of Features</th>\n",
       "      <th>Root Mean Squared Error (testing)</th>\n",
       "      <th>R-squared (testing)</th>\n",
       "      <th>Adjusted R-squared (testing)</th>\n",
       "      <th>R-squared (training)</th>\n",
       "      <th>Adjusted R-squared (training)</th>\n",
       "      <th>5-Fold Cross Validation</th>\n",
       "    </tr>\n",
       "  </thead>\n",
       "  <tbody>\n",
       "    <tr>\n",
       "      <th>0</th>\n",
       "      <td>Simple Linear Regression</td>\n",
       "      <td>1 feature</td>\n",
       "      <td>155.69</td>\n",
       "      <td>0.04</td>\n",
       "      <td>-</td>\n",
       "      <td>0.08</td>\n",
       "      <td>-</td>\n",
       "      <td>0.05</td>\n",
       "    </tr>\n",
       "  </tbody>\n",
       "</table>\n",
       "</div>"
      ],
      "text/plain": [
       "                      Model Number of Features  \\\n",
       "0  Simple Linear Regression          1 feature   \n",
       "\n",
       "   Root Mean Squared Error (testing)  R-squared (testing)  \\\n",
       "0                             155.69                 0.04   \n",
       "\n",
       "  Adjusted R-squared (testing)  R-squared (training)  \\\n",
       "0                            -                  0.08   \n",
       "\n",
       "  Adjusted R-squared (training)  5-Fold Cross Validation  \n",
       "0                             -                     0.05  "
      ]
     },
     "execution_count": 12,
     "metadata": {},
     "output_type": "execute_result"
    }
   ],
   "source": [
    "error_metrics"
   ]
  },
  {
   "cell_type": "code",
   "execution_count": 13,
   "metadata": {},
   "outputs": [
    {
     "name": "stdout",
     "output_type": "stream",
     "text": [
      "-729.5672633422773\n",
      "[105.17763106]\n"
     ]
    },
    {
     "data": {
      "text/plain": [
       "<Figure size 864x576 with 0 Axes>"
      ]
     },
     "metadata": {},
     "output_type": "display_data"
    }
   ],
   "source": [
    "# predict total phosphorus (tp)\n",
    "feature = 'ph'\n",
    "target = 'tp'\n",
    "feature_name = 'pH'\n",
    "target_name = 'Total Phosphorus'\n",
    "\n",
    "simple_linear_regression(feature, target, feature_name, target_name)"
   ]
  },
  {
   "cell_type": "markdown",
   "metadata": {},
   "source": [
    "Using ph feature result a poor fit. In order to improve this model, we need to more more features, it is defined as multiple regression."
   ]
  },
  {
   "cell_type": "markdown",
   "metadata": {},
   "source": [
    "### Multiple Linear Regression Model"
   ]
  },
  {
   "cell_type": "markdown",
   "metadata": {},
   "source": [
    "#### Optimize Prediction Using Wrapper Method \n",
    "Using ranked features based on cost-effectiveness and simplicity of testing procedures, a subset of features will be used to train the multiple regression model. We use a forward selection iterative method in which we start with having two feature in the model. In each iteration, we keep adding the feature which best improves our model till an addition of a new variable does not improve the performance of the model."
   ]
  },
  {
   "cell_type": "code",
   "execution_count": 14,
   "metadata": {},
   "outputs": [],
   "source": [
    "# function to calculate adjusted R-Squared \n",
    "def adjustedR2(r2,n,k):\n",
    "    return r2-(k-1)/(n-k)*(1-r2)\n",
    "\n",
    "# function to fit multiple linear regression model \n",
    "def multiple_linear_Regression(features, target, feature_num):\n",
    "    # split data into train and test\n",
    "    train_data, test_data = train_test_split(data,train_size = 0.75, random_state = 2)\n",
    "\n",
    "    # Fit model\n",
    "    mlr = LinearRegression()\n",
    "    mlr.fit(train_data[features],train_data[target])\n",
    "\n",
    "    pred = mlr.predict(test_data[features])\n",
    "    rmse_test = float(format(np.sqrt(mean_squared_error(test_data[target], pred)),'.2f'))\n",
    "    r2_train = float(format(mlr.score(train_data[features],train_data[target]),'.2f'))\n",
    "    adj_r2_train = float(format(adjustedR2(mlr.score(train_data[features],train_data[target]),\n",
    "                                     train_data.shape[0],len(features)),'.2f'))\n",
    "    r2_test = float(format(mlr.score(test_data[features],test_data[target]),'.2f'))\n",
    "    adj_r2_test = float(format(adjustedR2(mlr.score(test_data[features],test_data[target]),\n",
    "                                     test_data.shape[0],len(features)),'.2f'))\n",
    "    cv = float(format(cross_val_score(mlr,data[features], data[target], cv = 5).mean(),'.3f'))\n",
    "\n",
    "    row = error_metrics.shape[0]\n",
    "    error_metrics.loc[row] = ['Multiple Linear Regression', feature_num, rmse_test, r2_test, adj_r2_test, r2_train, \n",
    "                              adj_r2_train, cv]   "
   ]
  },
  {
   "cell_type": "markdown",
   "metadata": {},
   "source": [
    "#### Fit and Predict Total Nitrogen (tn)"
   ]
  },
  {
   "cell_type": "code",
   "execution_count": 56,
   "metadata": {},
   "outputs": [],
   "source": [
    "# Feature in thier respective rank on cost-effectiveness and simplicity of testing procedures\n",
    "feature_rank = ['ph','turb', 'cond', 'doc', 'k', 'mg', 'so4', 'cl', 'sio2', 'd18o_h2o', \n",
    "                'dd_h2o', 'e_i', 'rt']\n",
    "for i in range(1, len(feature_rank)+1):\n",
    "    feature = feature_rank[0:i+1]\n",
    "    target = ['tn', 'tn']\n",
    "    feature_num = str(i) + ' features'\n",
    "    multiple_linear_Regression(feature, target, feature_num)"
   ]
  },
  {
   "cell_type": "markdown",
   "metadata": {},
   "source": [
    "#### Fit and Predict Total Phosphorus (tn)"
   ]
  },
  {
   "cell_type": "markdown",
   "metadata": {},
   "source": [
    "#### Select Best Features"
   ]
  },
  {
   "cell_type": "code",
   "execution_count": 57,
   "metadata": {
    "scrolled": false
   },
   "outputs": [
    {
     "data": {
      "text/html": [
       "<div>\n",
       "<style scoped>\n",
       "    .dataframe tbody tr th:only-of-type {\n",
       "        vertical-align: middle;\n",
       "    }\n",
       "\n",
       "    .dataframe tbody tr th {\n",
       "        vertical-align: top;\n",
       "    }\n",
       "\n",
       "    .dataframe thead th {\n",
       "        text-align: right;\n",
       "    }\n",
       "</style>\n",
       "<table border=\"1\" class=\"dataframe\">\n",
       "  <thead>\n",
       "    <tr style=\"text-align: right;\">\n",
       "      <th></th>\n",
       "      <th>Model</th>\n",
       "      <th>Number of Features</th>\n",
       "      <th>Root Mean Squared Error (testing)</th>\n",
       "      <th>R-squared (testing)</th>\n",
       "      <th>Adjusted R-squared (testing)</th>\n",
       "      <th>R-squared (training)</th>\n",
       "      <th>Adjusted R-squared (training)</th>\n",
       "      <th>5-Fold Cross Validation</th>\n",
       "    </tr>\n",
       "  </thead>\n",
       "  <tbody>\n",
       "    <tr>\n",
       "      <th>2</th>\n",
       "      <td>Multiple Linear Regression</td>\n",
       "      <td>3 features</td>\n",
       "      <td>1.46</td>\n",
       "      <td>0.11</td>\n",
       "      <td>0.10</td>\n",
       "      <td>0.60</td>\n",
       "      <td>0.60</td>\n",
       "      <td>0.538</td>\n",
       "    </tr>\n",
       "    <tr>\n",
       "      <th>5</th>\n",
       "      <td>Multiple Linear Regression</td>\n",
       "      <td>3 features</td>\n",
       "      <td>1.46</td>\n",
       "      <td>0.11</td>\n",
       "      <td>0.10</td>\n",
       "      <td>0.60</td>\n",
       "      <td>0.60</td>\n",
       "      <td>0.538</td>\n",
       "    </tr>\n",
       "    <tr>\n",
       "      <th>6</th>\n",
       "      <td>Multiple Linear Regression</td>\n",
       "      <td>4 features</td>\n",
       "      <td>1.67</td>\n",
       "      <td>-0.17</td>\n",
       "      <td>-0.17</td>\n",
       "      <td>0.62</td>\n",
       "      <td>0.62</td>\n",
       "      <td>0.515</td>\n",
       "    </tr>\n",
       "    <tr>\n",
       "      <th>7</th>\n",
       "      <td>Multiple Linear Regression</td>\n",
       "      <td>5 features</td>\n",
       "      <td>1.68</td>\n",
       "      <td>-0.18</td>\n",
       "      <td>-0.19</td>\n",
       "      <td>0.62</td>\n",
       "      <td>0.62</td>\n",
       "      <td>0.510</td>\n",
       "    </tr>\n",
       "    <tr>\n",
       "      <th>8</th>\n",
       "      <td>Multiple Linear Regression</td>\n",
       "      <td>6 features</td>\n",
       "      <td>1.68</td>\n",
       "      <td>-0.18</td>\n",
       "      <td>-0.20</td>\n",
       "      <td>0.62</td>\n",
       "      <td>0.62</td>\n",
       "      <td>0.482</td>\n",
       "    </tr>\n",
       "    <tr>\n",
       "      <th>9</th>\n",
       "      <td>Multiple Linear Regression</td>\n",
       "      <td>7 features</td>\n",
       "      <td>1.69</td>\n",
       "      <td>-0.20</td>\n",
       "      <td>-0.21</td>\n",
       "      <td>0.62</td>\n",
       "      <td>0.62</td>\n",
       "      <td>0.476</td>\n",
       "    </tr>\n",
       "    <tr>\n",
       "      <th>10</th>\n",
       "      <td>Multiple Linear Regression</td>\n",
       "      <td>8 features</td>\n",
       "      <td>1.68</td>\n",
       "      <td>-0.18</td>\n",
       "      <td>-0.20</td>\n",
       "      <td>0.62</td>\n",
       "      <td>0.62</td>\n",
       "      <td>0.403</td>\n",
       "    </tr>\n",
       "    <tr>\n",
       "      <th>11</th>\n",
       "      <td>Multiple Linear Regression</td>\n",
       "      <td>9 features</td>\n",
       "      <td>1.67</td>\n",
       "      <td>-0.18</td>\n",
       "      <td>-0.19</td>\n",
       "      <td>0.62</td>\n",
       "      <td>0.62</td>\n",
       "      <td>0.400</td>\n",
       "    </tr>\n",
       "    <tr>\n",
       "      <th>13</th>\n",
       "      <td>Multiple Linear Regression</td>\n",
       "      <td>11 features</td>\n",
       "      <td>1.67</td>\n",
       "      <td>-0.18</td>\n",
       "      <td>-0.20</td>\n",
       "      <td>0.63</td>\n",
       "      <td>0.62</td>\n",
       "      <td>0.389</td>\n",
       "    </tr>\n",
       "    <tr>\n",
       "      <th>12</th>\n",
       "      <td>Multiple Linear Regression</td>\n",
       "      <td>10 features</td>\n",
       "      <td>1.68</td>\n",
       "      <td>-0.19</td>\n",
       "      <td>-0.21</td>\n",
       "      <td>0.62</td>\n",
       "      <td>0.62</td>\n",
       "      <td>0.387</td>\n",
       "    </tr>\n",
       "    <tr>\n",
       "      <th>14</th>\n",
       "      <td>Multiple Linear Regression</td>\n",
       "      <td>12 features</td>\n",
       "      <td>1.67</td>\n",
       "      <td>-0.17</td>\n",
       "      <td>-0.20</td>\n",
       "      <td>0.63</td>\n",
       "      <td>0.62</td>\n",
       "      <td>0.385</td>\n",
       "    </tr>\n",
       "    <tr>\n",
       "      <th>15</th>\n",
       "      <td>Multiple Linear Regression</td>\n",
       "      <td>13 features</td>\n",
       "      <td>1.67</td>\n",
       "      <td>-0.17</td>\n",
       "      <td>-0.20</td>\n",
       "      <td>0.63</td>\n",
       "      <td>0.62</td>\n",
       "      <td>0.385</td>\n",
       "    </tr>\n",
       "    <tr>\n",
       "      <th>1</th>\n",
       "      <td>Multiple Linear Regression</td>\n",
       "      <td>2 features</td>\n",
       "      <td>1.20</td>\n",
       "      <td>0.39</td>\n",
       "      <td>0.39</td>\n",
       "      <td>0.25</td>\n",
       "      <td>0.25</td>\n",
       "      <td>0.276</td>\n",
       "    </tr>\n",
       "    <tr>\n",
       "      <th>4</th>\n",
       "      <td>Multiple Linear Regression</td>\n",
       "      <td>2 features</td>\n",
       "      <td>1.20</td>\n",
       "      <td>0.39</td>\n",
       "      <td>0.39</td>\n",
       "      <td>0.25</td>\n",
       "      <td>0.25</td>\n",
       "      <td>0.276</td>\n",
       "    </tr>\n",
       "    <tr>\n",
       "      <th>0</th>\n",
       "      <td>Multiple Linear Regression</td>\n",
       "      <td>1 features</td>\n",
       "      <td>1.22</td>\n",
       "      <td>0.37</td>\n",
       "      <td>0.37</td>\n",
       "      <td>0.17</td>\n",
       "      <td>0.17</td>\n",
       "      <td>0.205</td>\n",
       "    </tr>\n",
       "    <tr>\n",
       "      <th>3</th>\n",
       "      <td>Multiple Linear Regression</td>\n",
       "      <td>1 features</td>\n",
       "      <td>1.22</td>\n",
       "      <td>0.37</td>\n",
       "      <td>0.37</td>\n",
       "      <td>0.17</td>\n",
       "      <td>0.17</td>\n",
       "      <td>0.205</td>\n",
       "    </tr>\n",
       "  </tbody>\n",
       "</table>\n",
       "</div>"
      ],
      "text/plain": [
       "                         Model Number of Features  \\\n",
       "2   Multiple Linear Regression         3 features   \n",
       "5   Multiple Linear Regression         3 features   \n",
       "6   Multiple Linear Regression         4 features   \n",
       "7   Multiple Linear Regression         5 features   \n",
       "8   Multiple Linear Regression         6 features   \n",
       "9   Multiple Linear Regression         7 features   \n",
       "10  Multiple Linear Regression         8 features   \n",
       "11  Multiple Linear Regression         9 features   \n",
       "13  Multiple Linear Regression        11 features   \n",
       "12  Multiple Linear Regression        10 features   \n",
       "14  Multiple Linear Regression        12 features   \n",
       "15  Multiple Linear Regression        13 features   \n",
       "1   Multiple Linear Regression         2 features   \n",
       "4   Multiple Linear Regression         2 features   \n",
       "0   Multiple Linear Regression         1 features   \n",
       "3   Multiple Linear Regression         1 features   \n",
       "\n",
       "    Root Mean Squared Error (testing)  R-squared (testing)  \\\n",
       "2                                1.46                 0.11   \n",
       "5                                1.46                 0.11   \n",
       "6                                1.67                -0.17   \n",
       "7                                1.68                -0.18   \n",
       "8                                1.68                -0.18   \n",
       "9                                1.69                -0.20   \n",
       "10                               1.68                -0.18   \n",
       "11                               1.67                -0.18   \n",
       "13                               1.67                -0.18   \n",
       "12                               1.68                -0.19   \n",
       "14                               1.67                -0.17   \n",
       "15                               1.67                -0.17   \n",
       "1                                1.20                 0.39   \n",
       "4                                1.20                 0.39   \n",
       "0                                1.22                 0.37   \n",
       "3                                1.22                 0.37   \n",
       "\n",
       "    Adjusted R-squared (testing)  R-squared (training)  \\\n",
       "2                           0.10                  0.60   \n",
       "5                           0.10                  0.60   \n",
       "6                          -0.17                  0.62   \n",
       "7                          -0.19                  0.62   \n",
       "8                          -0.20                  0.62   \n",
       "9                          -0.21                  0.62   \n",
       "10                         -0.20                  0.62   \n",
       "11                         -0.19                  0.62   \n",
       "13                         -0.20                  0.63   \n",
       "12                         -0.21                  0.62   \n",
       "14                         -0.20                  0.63   \n",
       "15                         -0.20                  0.63   \n",
       "1                           0.39                  0.25   \n",
       "4                           0.39                  0.25   \n",
       "0                           0.37                  0.17   \n",
       "3                           0.37                  0.17   \n",
       "\n",
       "    Adjusted R-squared (training)  5-Fold Cross Validation  \n",
       "2                            0.60                    0.538  \n",
       "5                            0.60                    0.538  \n",
       "6                            0.62                    0.515  \n",
       "7                            0.62                    0.510  \n",
       "8                            0.62                    0.482  \n",
       "9                            0.62                    0.476  \n",
       "10                           0.62                    0.403  \n",
       "11                           0.62                    0.400  \n",
       "13                           0.62                    0.389  \n",
       "12                           0.62                    0.387  \n",
       "14                           0.62                    0.385  \n",
       "15                           0.62                    0.385  \n",
       "1                            0.25                    0.276  \n",
       "4                            0.25                    0.276  \n",
       "0                            0.17                    0.205  \n",
       "3                            0.17                    0.205  "
      ]
     },
     "execution_count": 57,
     "metadata": {},
     "output_type": "execute_result"
    }
   ],
   "source": [
    "error_metrics.sort_values(by = ['5-Fold Cross Validation', 'Root Mean Squared Error (testing)'], \n",
    "                          ascending = [False, True])"
   ]
  },
  {
   "cell_type": "code",
   "execution_count": 41,
   "metadata": {},
   "outputs": [
    {
     "data": {
      "text/plain": [
       "<matplotlib.legend.Legend at 0x2a1a67acac8>"
      ]
     },
     "execution_count": 41,
     "metadata": {},
     "output_type": "execute_result"
    },
    {
     "data": {
      "image/png": "[encoded data removed]",
      "text/plain": [
       "<Figure size 1080x576 with 1 Axes>"
      ]
     },
     "metadata": {
      "needs_background": "light"
     },
     "output_type": "display_data"
    }
   ],
   "source": [
    "%matplotlib inline\n",
    "plt.style.use('seaborn-notebook')\n",
    "error_metrics.plot(figsize = (15,8))\n",
    "plt.xlabel('Number of Features',fontsize = 13)\n",
    "plt.ylabel('Total Nitrogen', fontsize = 13)\n",
    "plt.ylim(0,2)\n",
    "plt.legend(fontsize=16)\n"
   ]
  },
  {
   "cell_type": "markdown",
   "metadata": {},
   "source": [
    "Overall, the regression models fit best when the first three most ranked features, pH, cond, and turbidity, used. The fitted model needs to be checked if it is overfitting and undefitting."
   ]
  },
  {
   "cell_type": "markdown",
   "metadata": {},
   "source": [
    "### Regularization"
   ]
  },
  {
   "cell_type": "markdown",
   "metadata": {},
   "source": [
    "Previously, features were manually adjusted to obtimum performance. This will apply regularization, where selected features are kept and the model adjusts coefficients. Regularization, significantly reduces the variance of the model, without substantial increase in its bias. Two regulization methods applied, Ridge and Lasso Regressions."
   ]
  },
  {
   "cell_type": "markdown",
   "metadata": {},
   "source": [
    "#### Ridge Regression\n",
    "\n",
    "This will adding a penalty with α value. When we increase α, regularization increases. "
   ]
  },
  {
   "cell_type": "code",
   "execution_count": 54,
   "metadata": {},
   "outputs": [],
   "source": [
    "def multiple_linear_Regression_reg(α, features, target):\n",
    "    # split data into train and test\n",
    "    train_data, test_data = train_test_split(data,train_size = 0.75, random_state = 2)\n",
    "    \n",
    "    # Fit model\n",
    "    mlr = linear_model.Ridge(alpha = α)\n",
    "    mlr.fit(train_data[features],train_data[target])\n",
    "\n",
    "    pred = mlr.predict(test_data[features])\n",
    "    cv = float(format(cross_val_score(mlr,data[features], data[target], cv = 5).mean(),'.2f'))\n",
    "    return cv"
   ]
  },
  {
   "cell_type": "code",
   "execution_count": 55,
   "metadata": {},
   "outputs": [],
   "source": [
    "features =  ['ph','turb', 'cond']\n",
    "target = ['tn', 'tp']\n",
    "cv_ridge = []\n",
    "for i in range(1, 70):\n",
    "    c = multiple_linear_Regression_reg(i, features, target)\n",
    "    cv_ridge.append (c)"
   ]
  },
  {
   "cell_type": "code",
   "execution_count": 56,
   "metadata": {},
   "outputs": [
    {
     "data": {
      "text/plain": [
       "Text(0.5, 0, 'Model penalizer (alpha)')"
      ]
     },
     "execution_count": 56,
     "metadata": {},
     "output_type": "execute_result"
    },
    {
     "data": {
      "image/png": "[encoded data removed]",
      "text/plain": [
       "<Figure size 864x576 with 1 Axes>"
      ]
     },
     "metadata": {
      "needs_background": "light"
     },
     "output_type": "display_data"
    }
   ],
   "source": [
    "%matplotlib inline\n",
    "plt.style.use('seaborn-notebook')\n",
    "fig = plt.figure(figsize = (12, 8))\n",
    "plt.plot(cv_ridge)\n",
    "plt.title ('Ridge Regression', fontsize = 15)\n",
    "plt.ylabel('5-Fold Cross Validation', fontsize = 15)\n",
    "plt.xlabel('Model penalizer (alpha)', fontsize = 15)"
   ]
  },
  {
   "cell_type": "markdown",
   "metadata": {},
   "source": [
    "It seems the penalizer didn't make a change in the model paramaters. This is a good indicator that the model is not overfitting. "
   ]
  },
  {
   "cell_type": "markdown",
   "metadata": {},
   "source": [
    "#### Lasso Regression\n",
    "\n",
    "Lasso is works the same way but it shrinks coefficients to zero and can remove features. When α increases, lasso regression penalizes more."
   ]
  },
  {
   "cell_type": "code",
   "execution_count": 59,
   "metadata": {},
   "outputs": [],
   "source": [
    "def multiple_linear_Regression_Lasso(α, feature, target):\n",
    "    # split data into train and test\n",
    "    train_data, test_data = train_test_split(data,train_size = 0.75, random_state = 2)\n",
    "    \n",
    "    # Fit model\n",
    "    mlr = linear_model.Lasso(alpha=α)\n",
    "    mlr.fit(train_data[feature],train_data[target])\n",
    "\n",
    "    pred = mlr.predict(test_data[feature])\n",
    "    cv = float(format(cross_val_score(mlr,data[feature], data[target], cv = 5).mean(),'.2f'))\n",
    "    return cv"
   ]
  },
  {
   "cell_type": "code",
   "execution_count": 65,
   "metadata": {
    "scrolled": false
   },
   "outputs": [
    {
     "data": {
      "text/plain": [
       "Text(0.5, 0, 'Model penalizer (alpha)')"
      ]
     },
     "execution_count": 65,
     "metadata": {},
     "output_type": "execute_result"
    },
    {
     "data": {
      "image/png": "[encoded data removed]",
      "text/plain": [
       "<Figure size 864x576 with 1 Axes>"
      ]
     },
     "metadata": {
      "needs_background": "light"
     },
     "output_type": "display_data"
    }
   ],
   "source": [
    "features =  ['ph','turb', 'cond']\n",
    "target = ['tn', 'tp']\n",
    "cvv_lasso = []\n",
    "for i in range(1, 100):\n",
    "    c = multiple_linear_Regression_Lasso(i, feature, target)\n",
    "    cvv_lasso.append (c)\n",
    "fig = plt.figure(figsize = (12, 8))\n",
    "plt.plot(cvv_lasso)\n",
    "plt.title ('Lasso Regression', fontsize = 15)\n",
    "plt.ylabel('5-Fold Cross Validation', fontsize = 15)\n",
    "plt.xlabel('Model penalizer (alpha)', fontsize = 15)"
   ]
  },
  {
   "cell_type": "markdown",
   "metadata": {},
   "source": [
    "The lasso regression penalizer seems underfitting the model. As the α values increases, it will affect model in undersirable way. From these, rigdge is a good choice for this problem."
   ]
  },
  {
   "cell_type": "markdown",
   "metadata": {},
   "source": [
    "A linear regression fits modest on this data sets. In the next Jupyter nootebook, a neural network will be implemented"
   ]
  }
 ],
 "metadata": {
  "kernelspec": {
   "display_name": "Python 3",
   "language": "python",
   "name": "python3"
  },
  "language_info": {
   "codemirror_mode": {
    "name": "ipython",
    "version": 3
   },
   "file_extension": ".py",
   "mimetype": "text/x-python",
   "name": "python",
   "nbconvert_exporter": "python",
   "pygments_lexer": "ipython3",
   "version": "3.7.2"
  }
 },
 "nbformat": 4,
 "nbformat_minor": 2
}
